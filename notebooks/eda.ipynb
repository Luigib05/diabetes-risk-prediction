{
 "cells": [
  {
   "cell_type": "markdown",
   "id": "0f6eabde",
   "metadata": {},
   "source": [
    "1: Imports and loading the dataset"
   ]
  },
  {
   "cell_type": "code",
   "execution_count": null,
   "id": "88c17e63",
   "metadata": {},
   "outputs": [],
   "source": [
    "import pandas as pd\n",
    "import numpy as np\n",
    "import matplotlib.pyplot as plt\n",
    "import seaborn as sns\n",
    "import sys\n",
    "import os\n",
    "\n",
    "# Display settings\n",
    "sns.set_theme(style=\"whitegrid\")\n",
    "plt.rcParams[\"figure.figsize\"] = (10, 6)\n",
    "\n",
    "# Add the project root folder to the path\n",
    "sys.path.append(os.path.abspath(\"..\"))\n",
    "\n",
    "# Load the dataset (path relative to the project)\n",
    "from src.load_data import load_diabetes_data\n",
    "df = load_diabetes_data(\"C:\\Proyectos_DATA_&_IA\\diabetes-risk-prediction_project\\data\\diabetes.csv\")\n"
   ]
  },
  {
   "cell_type": "markdown",
   "id": "c9fa8319",
   "metadata": {},
   "source": [
    "2: Dataset overview"
   ]
  },
  {
   "cell_type": "code",
   "execution_count": null,
   "id": "a3184960",
   "metadata": {},
   "outputs": [],
   "source": [
    "# First rows of the dataset\n",
    "df.head()\n"
   ]
  },
  {
   "cell_type": "code",
   "execution_count": null,
   "id": "8131f78c",
   "metadata": {},
   "outputs": [],
   "source": [
    "# General information about the dataset\n",
    "df.info()\n"
   ]
  },
  {
   "cell_type": "code",
   "execution_count": null,
   "id": "d052bbdc",
   "metadata": {},
   "outputs": [],
   "source": [
    "# Descriptive statistics\n",
    "df.describe()\n"
   ]
  },
  {
   "cell_type": "markdown",
   "id": "690a60cb",
   "metadata": {},
   "source": [
    "3: Check for missing or unusual values"
   ]
  },
  {
   "cell_type": "code",
   "execution_count": null,
   "id": "fdce74af",
   "metadata": {},
   "outputs": [],
   "source": [
    "# Null values in the dataset\n",
    "df.isnull().sum()\n"
   ]
  },
  {
   "cell_type": "code",
   "execution_count": null,
   "id": "6f880f4d",
   "metadata": {},
   "outputs": [],
   "source": [
    "# Check how many 0 values ​​there are in columns that shouldn't have them\n",
    "cols_to_check = ['Glucose', 'BloodPressure', 'SkinThickness', 'Insulin', 'BMI']\n",
    "(df[cols_to_check] == 0).sum()\n"
   ]
  },
  {
   "cell_type": "markdown",
   "id": "e8b8c011",
   "metadata": {},
   "source": [
    "Convert zeros to NaN in the data frame"
   ]
  },
  {
   "cell_type": "code",
   "execution_count": null,
   "id": "12081f79",
   "metadata": {},
   "outputs": [],
   "source": [
    "cols_to_replace = ['Glucose', 'BloodPressure', 'SkinThickness', 'Insulin', 'BMI']\n",
    "df[cols_to_replace] = df[cols_to_replace].replace(0, np.nan)\n"
   ]
  },
  {
   "cell_type": "code",
   "execution_count": null,
   "id": "c573bd4b",
   "metadata": {},
   "outputs": [],
   "source": [
    "df.isnull().sum()\n"
   ]
  },
  {
   "cell_type": "markdown",
   "id": "3f0a06ac",
   "metadata": {},
   "source": [
    "4: Distribution of numerical variables"
   ]
  },
  {
   "cell_type": "code",
   "execution_count": null,
   "id": "c0dd531b",
   "metadata": {},
   "outputs": [],
   "source": [
    "df.hist(bins=30, figsize=(15, 10), color='skyblue')\n",
    "plt.suptitle(\"Distribution of Numerical Features\", fontsize=16)\n",
    "plt.tight_layout()\n",
    "plt.show()\n"
   ]
  },
  {
   "cell_type": "markdown",
   "id": "5a6340d9",
   "metadata": {},
   "source": [
    "5: Comparison between Outcome 0 vs 1"
   ]
  },
  {
   "cell_type": "code",
   "execution_count": null,
   "id": "42bb682c",
   "metadata": {},
   "outputs": [],
   "source": [
    "# Compare the variable 'Glucose' between patients with and without diabetes\n",
    "sns.boxplot(x='Outcome', y='Glucose', data=df)\n",
    "plt.title(\"Glucose levels by Diabetes Outcome\")\n"
   ]
  },
  {
   "cell_type": "markdown",
   "id": "da7b7c69",
   "metadata": {},
   "source": [
    "6: Correlation matrix"
   ]
  },
  {
   "cell_type": "code",
   "execution_count": null,
   "id": "39fa73d7",
   "metadata": {},
   "outputs": [],
   "source": [
    "corr = df.corr()\n",
    "sns.heatmap(corr, annot=True, cmap=\"coolwarm\", fmt=\".2f\")\n",
    "plt.title(\"Correlation Matrix\")\n"
   ]
  },
  {
   "cell_type": "markdown",
   "id": "8d6a131e",
   "metadata": {},
   "source": [
    "7: Analysis of the objective variable (Outcome)"
   ]
  },
  {
   "cell_type": "code",
   "execution_count": null,
   "id": "6e6ed2b3",
   "metadata": {},
   "outputs": [],
   "source": [
    "sns.countplot(x=\"Outcome\", data=df)\n",
    "plt.title(\"Distribution of Diabetes Outcome\")\n"
   ]
  },
  {
   "cell_type": "code",
   "execution_count": null,
   "id": "5b8cbe12",
   "metadata": {},
   "outputs": [],
   "source": [
    "import seaborn as sns\n",
    "import matplotlib.pyplot as plt\n",
    "\n",
    "# Violinplot: Glucose distribution by Outcome class\n",
    "sns.violinplot(x='Outcome', y='Glucose', data=df, inner='quartile', palette='pastel')\n",
    "\n",
    "plt.title(\"Glucose Distribution by Diabetes Outcome\")\n",
    "plt.xlabel(\"Diabetes Outcome (0 = No, 1 = Yes)\")\n",
    "plt.ylabel(\"Glucose Level\")\n",
    "plt.show()\n"
   ]
  },
  {
   "cell_type": "markdown",
   "id": "b4c7090c",
   "metadata": {},
   "source": [
    "Scatter plots with color by Outcome"
   ]
  },
  {
   "cell_type": "code",
   "execution_count": null,
   "id": "f3c0a669",
   "metadata": {},
   "outputs": [],
   "source": [
    "sns.scatterplot(x='Glucose', y='Age', hue='Outcome', data=df)\n"
   ]
  },
  {
   "cell_type": "markdown",
   "id": "4685eba3",
   "metadata": {},
   "source": [
    "Boxplot: glucose vs pregnancies\n"
   ]
  },
  {
   "cell_type": "code",
   "execution_count": null,
   "id": "b5b674c5",
   "metadata": {},
   "outputs": [],
   "source": [
    "import seaborn as sns\n",
    "import matplotlib.pyplot as plt\n",
    "\n",
    "plt.figure(figsize=(10, 6))\n",
    "sns.boxplot(x=\"Pregnancies\", y=\"Glucose\", data=df, palette=\"pastel\")\n",
    "plt.title(\"Glucose distribution according to number of pregnancies\")\n",
    "plt.xlabel(\"Pregnancies\")\n",
    "plt.ylabel(\"Glucose Level\")\n",
    "plt.tight_layout()\n",
    "plt.show()\n"
   ]
  },
  {
   "cell_type": "markdown",
   "id": "0266fa71",
   "metadata": {},
   "source": [
    "Pearson correlation between Pregnancies and Glucose"
   ]
  },
  {
   "cell_type": "code",
   "execution_count": null,
   "id": "a7c97055",
   "metadata": {},
   "outputs": [],
   "source": [
    "correlation = df[\"Pregnancies\"].corr(df[\"Glucose\"])\n",
    "print(f\"Correlation (Pearson) between pregnancies and glucose level: {correlation:.3f}\")\n"
   ]
  },
  {
   "cell_type": "markdown",
   "id": "7581d150",
   "metadata": {},
   "source": [
    " Pearson correlation between Glucose and BMI"
   ]
  },
  {
   "cell_type": "code",
   "execution_count": null,
   "id": "82ae7b84",
   "metadata": {},
   "outputs": [],
   "source": [
    "correlation = df[\"Glucose\"].corr(df[\"BMI\"])\n",
    "print(f\"Correlación (Pearson) entre Glucose y BMI: {correlation:.3f}\")\n"
   ]
  },
  {
   "cell_type": "markdown",
   "id": "21e403b8",
   "metadata": {},
   "source": [
    "Visualization with scatterplot"
   ]
  },
  {
   "cell_type": "code",
   "execution_count": null,
   "id": "d1eeefa7",
   "metadata": {},
   "outputs": [],
   "source": [
    "import seaborn as sns\n",
    "import matplotlib.pyplot as plt\n",
    "\n",
    "plt.figure(figsize=(10, 6))\n",
    "sns.scatterplot(data=df, x=\"Glucose\", y=\"BMI\", hue=\"Outcome\", palette=\"Set1\", alpha=0.7)\n",
    "plt.title(\"Relación entre Glucosa y BMI según Diabetes\")\n",
    "plt.xlabel(\"Glucose\")\n",
    "plt.ylabel(\"BMI\")\n",
    "plt.legend(title=\"Diabetes (0 = No, 1 = Sí)\")\n",
    "plt.tight_layout()\n",
    "plt.show()\n"
   ]
  },
  {
   "cell_type": "markdown",
   "id": "8db7cd28",
   "metadata": {},
   "source": [
    "Scatterplot for Outcome"
   ]
  },
  {
   "cell_type": "code",
   "execution_count": null,
   "id": "2ef66c3e",
   "metadata": {},
   "outputs": [],
   "source": [
    "import seaborn as sns\n",
    "import matplotlib.pyplot as plt\n",
    "\n",
    "# Crear scatterplot de Age vs BMI\n",
    "plt.figure(figsize=(10, 6))\n",
    "sns.scatterplot(data=df, x=\"Age\", y=\"BMI\", hue=\"Outcome\", palette={0: \"green\", 1: \"orange\"})\n",
    "\n",
    "plt.title(\"Relación entre Edad y BMI según Diabetes\")\n",
    "plt.xlabel(\"Edad\")\n",
    "plt.ylabel(\"Índice de Masa Corporal (BMI)\")\n",
    "plt.legend(title=\"Diabetes (0 = No, 1 = Sí)\")\n",
    "plt.grid(True)\n",
    "plt.tight_layout()\n",
    "plt.show()\n"
   ]
  },
  {
   "cell_type": "markdown",
   "id": "42e2fdc7",
   "metadata": {},
   "source": [
    "Pearson correlation between Age and BMI"
   ]
  },
  {
   "cell_type": "code",
   "execution_count": null,
   "id": "1ea4fde1",
   "metadata": {},
   "outputs": [],
   "source": [
    "correlation = df[\"Age\"].corr(df[\"BMI\"])\n",
    "print(f\"Correlación (Pearson) entre Age y BMI: {correlation:.3f}\")\n"
   ]
  },
  {
   "cell_type": "markdown",
   "id": "a8205c33",
   "metadata": {},
   "source": []
  }
 ],
 "metadata": {
  "kernelspec": {
   "display_name": ".venv",
   "language": "python",
   "name": "python3"
  },
  "language_info": {
   "codemirror_mode": {
    "name": "ipython",
    "version": 3
   },
   "file_extension": ".py",
   "mimetype": "text/x-python",
   "name": "python",
   "nbconvert_exporter": "python",
   "pygments_lexer": "ipython3",
   "version": "3.11.9"
  }
 },
 "nbformat": 4,
 "nbformat_minor": 5
}
